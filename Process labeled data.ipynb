{
 "cells": [
  {
   "cell_type": "code",
   "execution_count": null,
   "id": "787fd306",
   "metadata": {},
   "outputs": [],
   "source": [
    "!pip install openpyxl"
   ]
  },
  {
   "cell_type": "code",
   "execution_count": null,
   "id": "7323755d",
   "metadata": {},
   "outputs": [],
   "source": [
    "import pandas as pd\n",
    "\n",
    "df = pd.read_excel(\"../graphm_messages.xlsx\",  converters = {'message_reply_id': str, \"message_id\": str, \"sender_team_id\":str, \"replier_team_id\": str})\n",
    "df = df.drop(columns=[c for c in df.columns if \"Unnamed\" in c])"
   ]
  },
  {
   "cell_type": "code",
   "execution_count": null,
   "id": "500fbf24",
   "metadata": {},
   "outputs": [],
   "source": [
    "from keywords import KeywordExtractor\n",
    "extractor = KeywordExtractor()"
   ]
  },
  {
   "cell_type": "code",
   "execution_count": null,
   "id": "c7a617cd",
   "metadata": {},
   "outputs": [],
   "source": [
    "%load_ext autoreload\n",
    "%autoreload 2"
   ]
  },
  {
   "cell_type": "code",
   "execution_count": null,
   "id": "b06e0ce7",
   "metadata": {},
   "outputs": [],
   "source": [
    "df[\"generated_topics\"] = df[\"message_body\"].map( lambda text:\"\\n\".join([word for word, score in extractor.extract(text)]))"
   ]
  },
  {
   "cell_type": "code",
   "execution_count": null,
   "id": "34d9f7a3",
   "metadata": {},
   "outputs": [],
   "source": [
    "values_all = list(map(lambda x: x.split(\"\\n\"), list(df[\"generated_topics\"].values)))\n",
    "#values_questions_only = list(map(lambda x: x.split(\"\\n\"), list(df[df[\"message_type\"] == \"QUESTION\"][\"generated_topics\"].values)))\n",
    "all_keywords = list(sum(values_all, []))"
   ]
  },
  {
   "cell_type": "code",
   "execution_count": null,
   "id": "fe4aaf9d",
   "metadata": {},
   "outputs": [],
   "source": [
    "topics = extractor.cluster_keywords(all_keywords, n=12)\n",
    "print(set(topics))"
   ]
  },
  {
   "cell_type": "code",
   "execution_count": null,
   "id": "1b71c8cd",
   "metadata": {},
   "outputs": [],
   "source": [
    "lookup = dict(set(zip(all_keywords, topics)))\n",
    "\n",
    "def map_topics(x):\n",
    "    keywords = x.split(\"\\n\")\n",
    "    mapped = set(map(lambda y: lookup[y], keywords))\n",
    "    return \"\\n\".join(mapped)\n"
   ]
  },
  {
   "cell_type": "code",
   "execution_count": null,
   "id": "584a8f18",
   "metadata": {},
   "outputs": [],
   "source": [
    "df[\"clustered_topics\"] = df[\"generated_topics\"].map(map_topics)"
   ]
  },
  {
   "cell_type": "code",
   "execution_count": null,
   "id": "63317648",
   "metadata": {},
   "outputs": [],
   "source": [
    "dfs = [x for _, x in df.groupby('message_id')]"
   ]
  },
  {
   "cell_type": "code",
   "execution_count": null,
   "id": "bac54495",
   "metadata": {},
   "outputs": [],
   "source": [
    "def process_qa(df):\n",
    "    question = df[df[\"message_type\"] == \"QUESTION\"][\"message_body\"].values[0]\n",
    "    answers = df[df[\"message_type\"] == \"ANSWER\"][\"message_body\"]\n",
    "    ranks = extractor.ranker(question, answers)\n",
    "\n",
    "    scores = [s for i,t,s in ranks]\n",
    "    df[\"relevance\"] = [0] + scores\n",
    "    return df"
   ]
  },
  {
   "cell_type": "code",
   "execution_count": null,
   "id": "f0235bf0",
   "metadata": {},
   "outputs": [],
   "source": [
    "import pandas as pd\n",
    "final_df = pd.concat([process_qa(df) for df in dfs])"
   ]
  },
  {
   "cell_type": "code",
   "execution_count": null,
   "id": "244cc81a",
   "metadata": {},
   "outputs": [],
   "source": [
    "final_df.to_excel(\"processed.xlsx\")"
   ]
  },
  {
   "cell_type": "code",
   "execution_count": null,
   "metadata": {},
   "outputs": [],
   "source": [
    "from classifier import MessageClassifer\n",
    "message_classifer = MessageClassifer(MODEL_NAME=\"intent-model_1/intent-model_1\")"
   ]
  },
  {
   "cell_type": "code",
   "execution_count": null,
   "id": "7839add7",
   "metadata": {},
   "outputs": [],
   "source": [
    "text = final_df[\"message_body\"].values[1]\n",
    "processed = message_classifer.text_to_sents(text)\n",
    "\n",
    "for s in processed:\n",
    "    r = message_classifer.predict(s)\n",
    "    print(s, r)\n",
    "\n"
   ]
  }
 ],
 "metadata": {
  "kernelspec": {
   "display_name": "Python 3 (ipykernel)",
   "language": "python",
   "name": "python3"
  },
  "language_info": {
   "codemirror_mode": {
    "name": "ipython",
    "version": 3
   },
   "file_extension": ".py",
   "mimetype": "text/x-python",
   "name": "python",
   "nbconvert_exporter": "python",
   "pygments_lexer": "ipython3",
   "version": "3.8.10"
  }
 },
 "nbformat": 4,
 "nbformat_minor": 5
}
