{
 "cells": [
  {
   "cell_type": "markdown",
   "metadata": {
    "id": "hF8023iPWLCA"
   },
   "source": [
    "# Setup"
   ]
  },
  {
   "cell_type": "code",
   "execution_count": null,
   "metadata": {},
   "outputs": [],
   "source": [
    "#Data source https://github.com/NathanDuran/Switchboard-Corpus\n",
    "\n",
    "!git clone https://github.com/NathanDuran/Switchboard-Corpus\n",
    "!cp Switchboard-Corpus/swda_data ."
   ]
  },
  {
   "cell_type": "markdown",
   "metadata": {
    "id": "brXP-1oeWPMo"
   },
   "source": [
    "# Modelling"
   ]
  },
  {
   "cell_type": "code",
   "execution_count": null,
   "metadata": {
    "id": "QinCEA37U1Sf"
   },
   "outputs": [],
   "source": [
    "import pandas as pd\n",
    "\n",
    "label_df = pd.read_csv(\"labels.txt\", sep=\"\\t\")\n",
    "labels = dict(zip(label_df[\"Labels\"], label_df[\"Dialogue Act\"]))\n",
    "n_classes = len(label_df[\"Labels\"])\n",
    "label_index = dict(zip(label_df[\"Labels\"],range(n_classes)))\n",
    "label_index_inv = {v: k for k, v in label_index.items()}"
   ]
  },
  {
   "cell_type": "code",
   "execution_count": null,
   "metadata": {},
   "outputs": [],
   "source": [
    "print(n_classes)"
   ]
  },
  {
   "cell_type": "code",
   "execution_count": null,
   "metadata": {
    "id": "efK1ZhQ4UU3g"
   },
   "outputs": [],
   "source": [
    "TRAIN_DATA = \"swda_data/train_set.txt\"\n",
    "TEST_DATA = \"swda_data/test_set.txt\"\n",
    "VAL_DATA = \"swda_data/val_set.txt\""
   ]
  },
  {
   "cell_type": "code",
   "execution_count": null,
   "metadata": {
    "id": "8-VeAsLGTQZ2"
   },
   "outputs": [],
   "source": [
    "import pandas as pd\n",
    "\n",
    "df_train = pd.read_csv(TRAIN_DATA, sep=\"|\", names=[\"speaker\", \"text\", \"label\"])\n",
    "df_test = pd.read_csv(TEST_DATA, sep=\"|\", names=[\"speaker\", \"text\", \"label\"])\n",
    "df_val = pd.read_csv(VAL_DATA, sep=\"|\", names=[\"speaker\", \"text\", \"label\"])"
   ]
  },
  {
   "cell_type": "code",
   "execution_count": null,
   "metadata": {
    "id": "Sbf9x1EoV3VI"
   },
   "outputs": [],
   "source": [
    "from transformers import DistilBertTokenizer, DistilBertForSequenceClassification\n",
    "import torch"
   ]
  },
  {
   "cell_type": "code",
   "execution_count": null,
   "metadata": {
    "colab": {
     "base_uri": "https://localhost:8080/"
    },
    "id": "fyfnw1Z_WCSC",
    "outputId": "e182d5ca-d2b6-49ef-a38a-ef989d7be30a"
   },
   "outputs": [],
   "source": [
    "tokenizer = DistilBertTokenizer.from_pretrained('distilbert-base-uncased')\n",
    "model = DistilBertForSequenceClassification.from_pretrained('distilbert-base-uncased',  num_labels=n_classes)"
   ]
  },
  {
   "cell_type": "code",
   "execution_count": null,
   "metadata": {
    "id": "fFKPvhcKd2e0"
   },
   "outputs": [],
   "source": [
    "def tokenize_dataset(df):\n",
    "    return tokenizer(df[\"text\"].tolist(), truncation=True, padding=True)"
   ]
  },
  {
   "cell_type": "code",
   "execution_count": null,
   "metadata": {
    "id": "9k1IqvLvTQiG"
   },
   "outputs": [],
   "source": [
    "train_encodings = tokenize_dataset(df_train)\n",
    "val_encodings =tokenize_dataset(df_val)\n",
    "test_encodings =tokenize_dataset(df_test)"
   ]
  },
  {
   "cell_type": "code",
   "execution_count": null,
   "metadata": {
    "id": "odyOtNEXeJPD"
   },
   "outputs": [],
   "source": [
    "def get_labels(df):\n",
    "    return df[\"label\"].map(lambda x: label_index[x]).tolist()"
   ]
  },
  {
   "cell_type": "code",
   "execution_count": null,
   "metadata": {
    "id": "2BWQxFWWauXq"
   },
   "outputs": [],
   "source": [
    "train_labels = get_labels(df_train)\n",
    "val_labels= get_labels(df_val)\n",
    "test_labels = get_labels(df_test)"
   ]
  },
  {
   "cell_type": "code",
   "execution_count": null,
   "metadata": {
    "id": "PRwj3dk9aH55"
   },
   "outputs": [],
   "source": [
    "import torch\n",
    "\n",
    "class DADataset(torch.utils.data.Dataset):\n",
    "    def __init__(self, encodings, labels):\n",
    "        self.encodings = encodings\n",
    "        self.labels = labels\n",
    "\n",
    "    def __getitem__(self, idx):\n",
    "        item = {key: torch.tensor(val[idx]) for key, val in self.encodings.items()}\n",
    "        item['labels'] = torch.tensor(self.labels[idx])\n",
    "        return item\n",
    "\n",
    "    def __len__(self):\n",
    "        return len(self.labels)\n",
    "\n",
    "train_dataset = DADataset(train_encodings, train_labels)\n",
    "val_dataset = DADataset(val_encodings, val_labels)\n",
    "test_dataset = DADataset(test_encodings, test_labels)"
   ]
  },
  {
   "cell_type": "code",
   "execution_count": null,
   "metadata": {
    "id": "fDkjn2A7X-tZ"
   },
   "outputs": [],
   "source": [
    "import random\n",
    "random.seed(10)\n",
    "\n",
    "random_samples = random.sample(range(0, len(train_dataset)), 100)\n",
    "train_dataset_small = torch.utils.data.Subset(train_dataset, random_samples)"
   ]
  },
  {
   "cell_type": "code",
   "execution_count": null,
   "metadata": {
    "colab": {
     "base_uri": "https://localhost:8080/"
    },
    "id": "jCFzCDRZXyfQ",
    "outputId": "77bd7b2f-8346-410a-dc89-7b5902691d52"
   },
   "outputs": [],
   "source": [
    "from transformers import TrainingArguments\n",
    "\n",
    "training_args = TrainingArguments(\n",
    "  output_dir='./results',\n",
    "  per_device_train_batch_size=8,\n",
    "  per_device_eval_batch_size=8,\n",
    "  save_total_limit = 2)\n"
   ]
  },
  {
   "cell_type": "code",
   "execution_count": null,
   "metadata": {
    "id": "lI_z4k9eYAgR"
   },
   "outputs": [],
   "source": [
    "from transformers import Trainer\n",
    "\n",
    "trainer = Trainer(\n",
    "    model=model, args=training_args, train_dataset=train_dataset, eval_dataset=test_dataset\n",
    ")"
   ]
  },
  {
   "cell_type": "code",
   "execution_count": null,
   "metadata": {
    "colab": {
     "base_uri": "https://localhost:8080/",
     "height": 321
    },
    "id": "nErq6TdiYZBC",
    "outputId": "59dd77b1-afe5-4bbc-ba39-230d89ef8c1e"
   },
   "outputs": [],
   "source": [
    "trainer.train()"
   ]
  },
  {
   "cell_type": "code",
   "execution_count": null,
   "metadata": {
    "colab": {
     "base_uri": "https://localhost:8080/"
    },
    "id": "bx7MuESnYcbx",
    "outputId": "61937029-429b-4258-9d1f-f64629c19844"
   },
   "outputs": [],
   "source": [
    "MODEL_NAME = \"intent-model_1\"\n",
    "trainer.save_model(MODEL_NAME)\n",
    "tokenizer.save_pretrained(MODEL_NAME)"
   ]
  }
 ],
 "metadata": {
  "colab": {
   "name": "Bert.ipynb",
   "provenance": []
  },
  "kernelspec": {
   "display_name": "Python 3 (ipykernel)",
   "language": "python",
   "name": "python3"
  },
  "language_info": {
   "codemirror_mode": {
    "name": "ipython",
    "version": 3
   },
   "file_extension": ".py",
   "mimetype": "text/x-python",
   "name": "python",
   "nbconvert_exporter": "python",
   "pygments_lexer": "ipython3",
   "version": "3.8.10"
  }
 },
 "nbformat": 4,
 "nbformat_minor": 1
}
