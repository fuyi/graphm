{
 "cells": [
  {
   "cell_type": "code",
   "execution_count": null,
   "id": "4903cee6",
   "metadata": {},
   "outputs": [],
   "source": [
    "from transformers import DistilBertTokenizer, DistilBertForSequenceClassification\n",
    "import torch\n",
    "\n",
    "import pandas as pd\n",
    "\n",
    "label_df = pd.read_csv(\"labels.txt\", sep=\"\\t\")\n",
    "labels = dict(zip(label_df[\"Labels\"], label_df[\"Dialogue Act\"]))\n",
    "n_classes = len(label_df[\"Labels\"])\n",
    "label_index = dict(zip(label_df[\"Labels\"],range(n_classes)))\n",
    "label_index_inv = {v: k for k, v in label_index.items()}"
   ]
  },
  {
   "cell_type": "code",
   "execution_count": null,
   "id": "7e64827c",
   "metadata": {},
   "outputs": [],
   "source": [
    "MODEL_NAME = \"intent-model_1\""
   ]
  },
  {
   "cell_type": "code",
   "execution_count": null,
   "id": "e0918c73",
   "metadata": {},
   "outputs": [],
   "source": [
    "tokenizer = DistilBertTokenizer.from_pretrained(MODEL_NAME)\n",
    "model = DistilBertForSequenceClassification.from_pretrained(MODEL_NAME)"
   ]
  },
  {
   "cell_type": "code",
   "execution_count": null,
   "id": "b277d375",
   "metadata": {},
   "outputs": [],
   "source": [
    "examples = [\n",
    "\"Hi everybody, has anybody tried Windows Subsystem for Linux?\",\n",
    "\"I am pondering wether to get me a Windows machine and how easy is to get some linux up and running there while piggybacking on all of security\"]"
   ]
  },
  {
   "cell_type": "code",
   "execution_count": null,
   "id": "04a0171d",
   "metadata": {},
   "outputs": [],
   "source": [
    "from torch import nn\n",
    "def get_tag(logits):\n",
    "    return labels[label_index_inv[torch.argmax(nn.functional.softmax(logits, dim=-1)).data.item()]]"
   ]
  },
  {
   "cell_type": "code",
   "execution_count": null,
   "id": "60134a79",
   "metadata": {},
   "outputs": [],
   "source": [
    "input_text = examples[1]\n",
    "inputs = tokenizer(input_text, return_tensors=\"pt\") #.to(\"cpu\")\n",
    "outputs = model(**inputs)\n",
    "loss = outputs.loss\n",
    "logits = outputs.logits\n",
    "print(input_text)\n",
    "print(\"Tag:\", get_tag(logits))"
   ]
  },
  {
   "cell_type": "code",
   "execution_count": null,
   "id": "c352e6ac",
   "metadata": {},
   "outputs": [],
   "source": [
    "logits"
   ]
  },
  {
   "cell_type": "code",
   "execution_count": null,
   "id": "7a703bed",
   "metadata": {},
   "outputs": [],
   "source": [
    "for i, l in enumerate(label_df[\"Dialogue Act\"].values):\n",
    "    print(i, l)"
   ]
  },
  {
   "cell_type": "code",
   "execution_count": null,
   "id": "99f3279e",
   "metadata": {},
   "outputs": [],
   "source": []
  }
 ],
 "metadata": {
  "kernelspec": {
   "display_name": "Python 3 (ipykernel)",
   "language": "python",
   "name": "python3"
  },
  "language_info": {
   "codemirror_mode": {
    "name": "ipython",
    "version": 3
   },
   "file_extension": ".py",
   "mimetype": "text/x-python",
   "name": "python",
   "nbconvert_exporter": "python",
   "pygments_lexer": "ipython3",
   "version": "3.8.10"
  }
 },
 "nbformat": 4,
 "nbformat_minor": 5
}
